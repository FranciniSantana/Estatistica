{
  "nbformat": 4,
  "nbformat_minor": 0,
  "metadata": {
    "colab": {
      "provenance": [],
      "authorship_tag": "ABX9TyNFavfsauJuIUwCphnINrzp"
    },
    "kernelspec": {
      "name": "python3",
      "display_name": "Python 3"
    },
    "language_info": {
      "name": "python"
    }
  },
  "cells": [
    {
      "cell_type": "code",
      "source": [
        "from scipy.stats import binom, norm\n",
        "import math\n",
        "import pandas as pd\n",
        "import seaborn as sns\n",
        "import numpy as np"
      ],
      "metadata": {
        "id": "thg9QIGYxlUi"
      },
      "execution_count": 1,
      "outputs": []
    },
    {
      "cell_type": "markdown",
      "source": [
        "## Probabilidade de Intersecação (E)"
      ],
      "metadata": {
        "id": "FBiGV3KS_SNc"
      }
    },
    {
      "cell_type": "markdown",
      "source": [
        "*Resolve qual tipo de problema?*\n",
        "\n",
        "**Qual a probabilidade do evento A e B ocorrerem simultaneamente?** \n",
        "\n",
        "P(A∩B) = P(A) * P(B) |Eventos independentes\n",
        "\n",
        "P(A∩B) = P(A) * P(B|A) |Eventos dependentes"
      ],
      "metadata": {
        "id": "-XJ3CtpaAM2N"
      }
    },
    {
      "cell_type": "markdown",
      "source": [
        "## Probabilidade de União (Ou)"
      ],
      "metadata": {
        "id": "LWv9c8v5_Xcn"
      }
    },
    {
      "cell_type": "markdown",
      "source": [
        "*Resolve qual tipo de problema?*\n",
        "\n",
        "**Qual a chance do evento A OU B ocorrerem separadamente?** \n",
        "\n",
        "P(A∪B)=P(A)+P(B)−P(A∩B).\n",
        "\n"
      ],
      "metadata": {
        "id": "voSBQdr-BzrP"
      }
    },
    {
      "cell_type": "markdown",
      "source": [
        "## Probabilidade Condicional"
      ],
      "metadata": {
        "id": "fH2i8VLb_iLW"
      }
    },
    {
      "cell_type": "markdown",
      "source": [
        "*Resolve qual tipo de problema?*\n",
        "\n",
        "**Qual a chance do evento A ocorrer dado que B já ocorreu?**\n",
        "\n",
        "P(A|B) = P(A) * P(B) / P(B) "
      ],
      "metadata": {
        "id": "AuQvXV6eCSyH"
      }
    },
    {
      "cell_type": "markdown",
      "source": [
        "## Teorema de Probabilidade Total"
      ],
      "metadata": {
        "id": "hkCG6bwk_k_Y"
      }
    },
    {
      "cell_type": "markdown",
      "source": [],
      "metadata": {
        "id": "TT-f7G9HG7YV"
      }
    },
    {
      "cell_type": "markdown",
      "source": [
        "## Teorema de Bayes"
      ],
      "metadata": {
        "id": "1eIaPQPG_0bm"
      }
    },
    {
      "cell_type": "markdown",
      "source": [
        "## Distribuição Binominal | Variáveis discretas"
      ],
      "metadata": {
        "id": "0kPtUw5awCO_"
      }
    },
    {
      "cell_type": "markdown",
      "source": [
        "Link de exercícios: https://www.ime.usp.br/~salles/fatec/estatistica/material_apoio/ExerciciosResolvidosBinomial.pdf\n",
        "\n",
        "Link de apoio: http://www.bertolo.pro.br/FinEst/Estatistica/DistribuicaoProbabilidades/binomial.htm"
      ],
      "metadata": {
        "id": "GFa6YzE23Syp"
      }
    },
    {
      "cell_type": "markdown",
      "source": [
        "Suponha que na minha loja 10% de todos os pedidos são devolvidos a cada semana. Se houver alta probabilidade de ter 3 ou mais devoluções por semana, precisamos contratar um assistente temporário. Suponha que naquela semana a loja realizou 50 vendas em 1 semana. Qual é a probabilidade de ter que contratar um assistente temporário? "
      ],
      "metadata": {
        "id": "9iVBXfigwkoz"
      }
    },
    {
      "cell_type": "markdown",
      "source": [
        "* x = quantidade de devoluções | número de sucessos\n",
        "* n = 50 vendas | número de ensaios\n",
        "* p = 10% | probabilidade de devolução\n",
        "* q = 1- 10% | probabilidade de não devolução 1-p\n"
      ],
      "metadata": {
        "id": "6fOMxa1fw5Rv"
      }
    },
    {
      "cell_type": "code",
      "source": [
        "# p = probabilidade de sucesso\n",
        "# n = quantidade de tentativas\n",
        "# k = quantidade de sucesso\n",
        "\n",
        "p = 0.10\n",
        "n = 50\n",
        "k = 2\n",
        "1-binom.cdf(k,n,p) #  calcula a probabilidade cumulativa de obter k ao contrário\n",
        "\n"
      ],
      "metadata": {
        "colab": {
          "base_uri": "https://localhost:8080/"
        },
        "id": "fEvaRgL9xXDs",
        "outputId": "fd043f7e-49b7-4888-e5e5-27e02ad51797"
      },
      "execution_count": 2,
      "outputs": [
        {
          "output_type": "execute_result",
          "data": {
            "text/plain": [
              "0.8882712436536527"
            ]
          },
          "metadata": {},
          "execution_count": 2
        }
      ]
    },
    {
      "cell_type": "markdown",
      "source": [
        "b.   Qual é a probabilidade de 3 caras em 5 lançamentos de uma moeda honesta? \n"
      ],
      "metadata": {
        "id": "TO3mz8zoyVMJ"
      }
    },
    {
      "cell_type": "code",
      "source": [
        "p = 0.50\n",
        "n = 5\n",
        "k = 3 \n",
        "binom.pmf(k,n,p) #calcula a probabilidade de obter exatamente k \n"
      ],
      "metadata": {
        "colab": {
          "base_uri": "https://localhost:8080/"
        },
        "id": "ZaHDAYWlvy0T",
        "outputId": "956ef298-64a6-45dd-bdf4-acbe38d4f5fd"
      },
      "execution_count": 3,
      "outputs": [
        {
          "output_type": "execute_result",
          "data": {
            "text/plain": [
              "0.31249999999999983"
            ]
          },
          "metadata": {},
          "execution_count": 3
        }
      ]
    },
    {
      "cell_type": "markdown",
      "source": [
        "Suponha que a probabilidade dos pais  terem um  filho com cabelos loiros seja ¼. Se houverem 6 crianças na família, qual é a probabilidade de que metade delas terem cabelos loiros? \n",
        "\n",
        "b. Se a probabilidade de atingir um alvo num único disparo é 0,3, qual é a probabilidade de que em 4 disparos o alvo \n",
        "seja atingido no mínimo 3 vezes? "
      ],
      "metadata": {
        "id": "qGxmfzqDxNbt"
      }
    },
    {
      "cell_type": "code",
      "source": [
        "p = 0.25\n",
        "n = 6\n",
        "k= 3\n",
        "\n",
        "binom.pmf(k,n,p)"
      ],
      "metadata": {
        "colab": {
          "base_uri": "https://localhost:8080/"
        },
        "id": "qW2h32kGy1hL",
        "outputId": "87b94946-a254-46b6-a57e-60d16a579c85"
      },
      "execution_count": 4,
      "outputs": [
        {
          "output_type": "execute_result",
          "data": {
            "text/plain": [
              "0.13183593749999992"
            ]
          },
          "metadata": {},
          "execution_count": 4
        }
      ]
    },
    {
      "cell_type": "markdown",
      "source": [
        "P(k sucessos) = comb(n, k) * p^k * (1-p)^(n-k)\n",
        "\n",
        "Onde comb(n, k) é o número de maneiras de escolher k objetos a partir de um conjunto de n objetos, e é dado por:\n",
        "\n",
        "comb(n, k) = n! / (k! * (n-k)!) ! = fatorial 5! = 5 * 4 + 5 * 3...5*1\n",
        "Isso pode ser interpretado como o número de combinações distintas de k objetos que podem ser escolhidos de um conjunto de n objetos.\n",
        "\n",
        "\n",
        "comb(6,3) = 6! / (3! * (6-3)!)\n",
        "= 6! / (3! * 3!)\n",
        "= (720) / (36)"
      ],
      "metadata": {
        "id": "TvAZWKBA9rFK"
      }
    },
    {
      "cell_type": "code",
      "source": [
        "# P(3 sucessos) = comb(6, 3) * (0,25)^3 * (1 - 0,25)^(6 - 3)\n",
        "pk = 20 * 0.25 ** 3 * 0.75 ** 3 \n",
        "pk"
      ],
      "metadata": {
        "colab": {
          "base_uri": "https://localhost:8080/"
        },
        "id": "dFznhVHq9fPG",
        "outputId": "9b8593b6-2b41-4eb3-ba98-b4d7dc5bbc4b"
      },
      "execution_count": 5,
      "outputs": [
        {
          "output_type": "execute_result",
          "data": {
            "text/plain": [
              "0.1318359375"
            ]
          },
          "metadata": {},
          "execution_count": 5
        }
      ]
    },
    {
      "cell_type": "markdown",
      "source": [
        "3.  *a.* Um inspetor de qualidade extrai uma amostra de 10 tubos aleatoriamente de uma carga muito grande de tubos \n",
        "que  se  sabe  que  contém  20%  de  tubos  defeituosos.  Qual  é  a  probabilidade  de  que  não  mais  do  que  2  dos  tubos \n",
        "extraídos sejam defeituosos? \n",
        "\n",
        "  *b.* Um engenheiro de inspeção extrai uma amostra de 15 itens aleatoriamente de um processo de fabricação sabido \n",
        "produzir 85% de itens aceitáveis. Qual a probabilidade de que 10 dos itens extraídos sejam aceitáveis? "
      ],
      "metadata": {
        "id": "2wNdtn5b3aMO"
      }
    },
    {
      "cell_type": "code",
      "source": [
        "# amostra 10 tubos\n",
        "# 20% tubos defeituosos\n",
        "# <= 2\n",
        "\n",
        "k = 2 #número de sucessos\n",
        "n = 10 #número de ensaios\n",
        "p = 0.20 #probabilidade de defeito\n",
        "q = 1 - 0.20 #probabilidade de não defeito 1-p"
      ],
      "metadata": {
        "id": "WOS1KV0v3i69"
      },
      "execution_count": 6,
      "outputs": []
    },
    {
      "cell_type": "code",
      "source": [
        "binom.cdf(k,n,p) #  calcula a probabilidade cumulativa de obter k"
      ],
      "metadata": {
        "colab": {
          "base_uri": "https://localhost:8080/"
        },
        "id": "PogRi-qY6Nal",
        "outputId": "379bab83-2b36-44e4-c2ea-5d28a4b4f293"
      },
      "execution_count": 8,
      "outputs": [
        {
          "output_type": "execute_result",
          "data": {
            "text/plain": [
              "0.6777995263999999"
            ]
          },
          "metadata": {},
          "execution_count": 8
        }
      ]
    },
    {
      "cell_type": "code",
      "source": [
        "k = 10 #número de sucessos\n",
        "n = 15 #número de ensaios - itens produzidos\n",
        "p = 0.85 #probabilidade de itens aceitáveis\n",
        "q = 1 - 0.85 #probabilidade de não defeito 1-p"
      ],
      "metadata": {
        "id": "uvvQgmLw5aHP"
      },
      "execution_count": 9,
      "outputs": []
    },
    {
      "cell_type": "code",
      "source": [
        "binom.pmf(k,n,p)"
      ],
      "metadata": {
        "colab": {
          "base_uri": "https://localhost:8080/"
        },
        "id": "dpHY26WS68cG",
        "outputId": "0846c98f-d80b-4071-e786-2270c342eeea"
      },
      "execution_count": 10,
      "outputs": [
        {
          "output_type": "execute_result",
          "data": {
            "text/plain": [
              "0.044895300689109775"
            ]
          },
          "metadata": {},
          "execution_count": 10
        }
      ]
    },
    {
      "cell_type": "markdown",
      "source": [
        "3.  a.  Se  4  moedas  honestas  forem  lançadas  simultaneamente  (ou  1  moeda  honesta  for  lançada  4  vezes),  calcule  a distribuição de probabilidade completa e desenhe‐a num gráfico \n",
        "\n",
        "  b. Calcule e trace o gráfico da distribuição de probabilidade para uma amostra de 5 itens tomada aleatoriamente de \n",
        "um processo de produção sabido produzir 30% de itens defeituosos "
      ],
      "metadata": {
        "id": "2wiXm0TZ8Xlk"
      }
    },
    {
      "cell_type": "code",
      "source": [
        "k = [0,1,2,3,4] #número de sucessos | todas possibilidades\n",
        "n = 4 #número de ensaios - lançamentos das moedas\n",
        "p = 0.50 #probabilidade de itens aceitáveis\n",
        "q = 1 - 0.50 #probabilidade de não defeito 1-p"
      ],
      "metadata": {
        "id": "gExgfdAo9Z_S"
      },
      "execution_count": 47,
      "outputs": []
    },
    {
      "cell_type": "code",
      "source": [
        "resultado = [] # crie uma lista vazia para armazenar os resultados\n",
        "\n",
        "for valor in k: # para cada valor em k, onde valor será definido como incremental += 1\n",
        "  probabilidade = binom.pmf(valor,n,p) # a variável associada a função de probabilidade usando a variável valor em vez de k\n",
        "  resultado.append(probabilidade) #chamo a lista vazia e uso o append p/ trazer a probabilidade para todos os elementos da lista\n",
        "  valor += 1\n",
        "\n",
        "print(resultado)\n"
      ],
      "metadata": {
        "colab": {
          "base_uri": "https://localhost:8080/"
        },
        "id": "Eda_zci5CG2C",
        "outputId": "7c013101-effc-4e05-bae4-9447bb86373e"
      },
      "execution_count": 48,
      "outputs": [
        {
          "output_type": "stream",
          "name": "stdout",
          "text": [
            "[0.0625, 0.25, 0.375, 0.25000000000000006, 0.0625]\n"
          ]
        }
      ]
    },
    {
      "cell_type": "code",
      "source": [
        "resultado"
      ],
      "metadata": {
        "colab": {
          "base_uri": "https://localhost:8080/"
        },
        "id": "XoVFgVmGDfXR",
        "outputId": "e6c07a3e-5625-4e9a-b961-4c5e8fadc93b"
      },
      "execution_count": 46,
      "outputs": [
        {
          "output_type": "execute_result",
          "data": {
            "text/plain": [
              "[0.0625, 0.25, 0.375, 0.25000000000000006]"
            ]
          },
          "metadata": {},
          "execution_count": 46
        }
      ]
    },
    {
      "cell_type": "code",
      "source": [
        "binom.pmf(k,n,p)"
      ],
      "metadata": {
        "colab": {
          "base_uri": "https://localhost:8080/"
        },
        "id": "0tQU2NjB9dAy",
        "outputId": "cd920875-fd10-44f3-a0b8-d4a23adedba2"
      },
      "execution_count": 25,
      "outputs": [
        {
          "output_type": "execute_result",
          "data": {
            "text/plain": [
              "0.0625"
            ]
          },
          "metadata": {},
          "execution_count": 25
        }
      ]
    },
    {
      "cell_type": "code",
      "source": [
        "k = [0,1,2,3,4] #número de sucessos | todas possibilidades\n",
        "n = 5 #número de ensaios - lançamentos das moedas\n",
        "p = 0.30 #probabilidade de itens aceitáveis\n",
        "q = 1 - 0.30 #probabilidade de não defeito 1-p"
      ],
      "metadata": {
        "id": "KZmnY-dm_K86"
      },
      "execution_count": 39,
      "outputs": []
    },
    {
      "cell_type": "code",
      "source": [
        "binom.pmf(k,n,p)"
      ],
      "metadata": {
        "colab": {
          "base_uri": "https://localhost:8080/"
        },
        "id": "KMDmAX5U_Uz4",
        "outputId": "effb767d-0ac6-4dab-b720-056791e1090c"
      },
      "execution_count": 29,
      "outputs": [
        {
          "output_type": "execute_result",
          "data": {
            "text/plain": [
              "0.0024299999999999994"
            ]
          },
          "metadata": {},
          "execution_count": 29
        }
      ]
    },
    {
      "cell_type": "code",
      "source": [
        "resultados = []\n",
        "\n",
        "for valor in k:\n",
        "    probabilidade = binom.pmf(valor, n, p)\n",
        "    resultados.append(probabilidade)\n",
        "    valor += 1\n",
        "\n",
        "print(resultados)"
      ],
      "metadata": {
        "colab": {
          "base_uri": "https://localhost:8080/"
        },
        "id": "U--KjMWABeX1",
        "outputId": "c95e722a-0cec-43dc-c9d0-6ababaf51c86"
      },
      "execution_count": 40,
      "outputs": [
        {
          "output_type": "stream",
          "name": "stdout",
          "text": [
            "[0.16806999999999994, 0.3601499999999999, 0.3086999999999998, 0.1322999999999999, 0.028349999999999986]\n"
          ]
        }
      ]
    },
    {
      "cell_type": "markdown",
      "source": [
        "## Distribuição normal | Variáveis contínuas"
      ],
      "metadata": {
        "id": "lKxWvXVPB-rS"
      }
    },
    {
      "cell_type": "markdown",
      "source": [
        "Link dos exercícios: https://docs.ufpr.br/~jomarc/normalresolvido1.pdf"
      ],
      "metadata": {
        "id": "rZIvPO-9CGfa"
      }
    },
    {
      "cell_type": "markdown",
      "source": [
        "01. Uma empresa produz televisores de dois tipos, tipo A (comum) e tipo B (luxo), e garante a restituição da quantia paga se qualquer televisor apresentar defeito grave no prazo de seis meses. O tempo para ocorrência de algum defeito grave nos televisores tem distribuição normal sendo que, no tipo A, com média de 10 meses e desvio padrão de 2 meses e no tipo B, com média de 11 meses e desvio padrão de 3 meses. Os televisores de tipo A e B são produzidos com lucro de 1200 u.m. e 2100 u.m. respectivamente e, caso haja restituição, com prejuízo de 2500 u.m. e 7000 u.m., respectivamente.\n",
        "\n",
        "(a) Calcule as probabilidades de haver restituição nos televisores do tipo A e do tipo B.\n",
        "\n",
        "(b) Calcule o lucro médio para os televisores do tipo A e para os televisores do tipo B.\n",
        "\n",
        "(c) Baseando-se nos lucros médios, a empresa deveria incentivar as vendas dos\n",
        "aparelhos do tipo A ou do tipo B?"
      ],
      "metadata": {
        "id": "exeTIcctEwOC"
      }
    },
    {
      "cell_type": "code",
      "source": [
        "# tipo A: Média 10 meses e DP = 2 meses\n",
        "# tipo B: Média 11 meses e DP  = 2 meses"
      ],
      "metadata": {
        "id": "X_AIYppjE1lW"
      },
      "execution_count": null,
      "outputs": []
    }
  ]
}