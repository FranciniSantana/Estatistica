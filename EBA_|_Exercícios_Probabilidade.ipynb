{
  "nbformat": 4,
  "nbformat_minor": 0,
  "metadata": {
    "colab": {
      "provenance": [],
      "authorship_tag": "ABX9TyNzuoU20QgKAzU4Mfr/E/MS",
      "include_colab_link": true
    },
    "kernelspec": {
      "name": "python3",
      "display_name": "Python 3"
    },
    "language_info": {
      "name": "python"
    }
  },
  "cells": [
    {
      "cell_type": "markdown",
      "metadata": {
        "id": "view-in-github",
        "colab_type": "text"
      },
      "source": [
        "<a href=\"https://colab.research.google.com/github/FranciniSantana/EstatisticaDescritiva/blob/main/EBA_%7C_Exerc%C3%ADcios_Probabilidade.ipynb\" target=\"_parent\"><img src=\"https://colab.research.google.com/assets/colab-badge.svg\" alt=\"Open In Colab\"/></a>"
      ]
    },
    {
      "cell_type": "code",
      "source": [
        "from scipy.stats import binom, norm\n",
        "import math\n",
        "import pandas as pd\n",
        "import seaborn as sns\n",
        "import numpy as np"
      ],
      "metadata": {
        "id": "thg9QIGYxlUi"
      },
      "execution_count": null,
      "outputs": []
    },
    {
      "cell_type": "markdown",
      "source": [
        "## Probabilidade de Intersecação (E)"
      ],
      "metadata": {
        "id": "FBiGV3KS_SNc"
      }
    },
    {
      "cell_type": "markdown",
      "source": [
        "*Resolve qual tipo de problema?*\n",
        "\n",
        "**Qual a probabilidade do evento A e B ocorrerem simultaneamente?** \n",
        "\n",
        "P(A∩B) = P(A) * P(B) |Eventos independentes\n",
        "\n",
        "P(A∩B) = P(A) * P(B|A) |Eventos dependentes"
      ],
      "metadata": {
        "id": "-XJ3CtpaAM2N"
      }
    },
    {
      "cell_type": "markdown",
      "source": [
        "## Probabilidade de União (Ou)"
      ],
      "metadata": {
        "id": "LWv9c8v5_Xcn"
      }
    },
    {
      "cell_type": "markdown",
      "source": [
        "*Resolve qual tipo de problema?*\n",
        "\n",
        "**Qual a chance do evento A OU B ocorrerem separadamente?** \n",
        "\n",
        "P(A∪B)=P(A)+P(B)−P(A∩B).\n",
        "\n"
      ],
      "metadata": {
        "id": "voSBQdr-BzrP"
      }
    },
    {
      "cell_type": "markdown",
      "source": [
        "## Probabilidade Condicional"
      ],
      "metadata": {
        "id": "fH2i8VLb_iLW"
      }
    },
    {
      "cell_type": "markdown",
      "source": [
        "*Resolve qual tipo de problema?*\n",
        "\n",
        "**Qual a chance do evento A ocorrer dado que B já ocorreu?**\n",
        "\n",
        "P(A|B) = P(A) * P(B) / P(B) "
      ],
      "metadata": {
        "id": "AuQvXV6eCSyH"
      }
    },
    {
      "cell_type": "markdown",
      "source": [
        "## Teorema de Probabilidade Total"
      ],
      "metadata": {
        "id": "hkCG6bwk_k_Y"
      }
    },
    {
      "cell_type": "markdown",
      "source": [],
      "metadata": {
        "id": "TT-f7G9HG7YV"
      }
    },
    {
      "cell_type": "markdown",
      "source": [
        "## Teorema de Bayes"
      ],
      "metadata": {
        "id": "1eIaPQPG_0bm"
      }
    },
    {
      "cell_type": "markdown",
      "source": [
        "## Distribuição Binominal | Variáveis discretas"
      ],
      "metadata": {
        "id": "0kPtUw5awCO_"
      }
    },
    {
      "cell_type": "markdown",
      "source": [
        "Link de apoio: http://www.bertolo.pro.br/FinEst/Estatistica/DistribuicaoProbabilidades/binomial.htm"
      ],
      "metadata": {
        "id": "GFa6YzE23Syp"
      }
    },
    {
      "cell_type": "markdown",
      "source": [
        "Suponha que na minha loja 10% de todos os pedidos são devolvidos a cada semana. Se houver alta probabilidade de ter 3 ou mais devoluções por semana, precisamos contratar um assistente temporário. Suponha que naquela semana a loja realizou 50 vendas em 1 semana. Qual é a probabilidade de ter que contratar um assistente temporário? "
      ],
      "metadata": {
        "id": "9iVBXfigwkoz"
      }
    },
    {
      "cell_type": "markdown",
      "source": [
        "* x = quantidade de devoluções | número de sucessos\n",
        "* n = 50 vendas | número de ensaios\n",
        "* p = 10% | probabilidade de devolução\n",
        "* q = 1- 10% | probabilidade de não devolução 1-p\n"
      ],
      "metadata": {
        "id": "6fOMxa1fw5Rv"
      }
    },
    {
      "cell_type": "code",
      "source": [
        "# p = probabilidade de sucesso\n",
        "# n = quantidade de tentativas\n",
        "# k = quantidade de sucesso\n",
        "\n",
        "p = 0.10\n",
        "n = 50\n",
        "k = 2\n",
        "1-binom.cdf(k,n,p)\n",
        "\n"
      ],
      "metadata": {
        "colab": {
          "base_uri": "https://localhost:8080/"
        },
        "id": "fEvaRgL9xXDs",
        "outputId": "a95c98ae-adab-44c4-a252-fdc95fada87a"
      },
      "execution_count": null,
      "outputs": [
        {
          "output_type": "execute_result",
          "data": {
            "text/plain": [
              "0.8882712436536527"
            ]
          },
          "metadata": {},
          "execution_count": 2
        }
      ]
    },
    {
      "cell_type": "markdown",
      "source": [
        "b.   Qual é a probabilidade de 3 caras em 5 lançamentos de uma moeda honesta? \n"
      ],
      "metadata": {
        "id": "TO3mz8zoyVMJ"
      }
    },
    {
      "cell_type": "code",
      "source": [
        "p = 0.50\n",
        "n = 5\n",
        "k = 3 # ele vai fazer o acumulado até o 3\n",
        "binom.pmf(k,n,p)\n",
        "#1-binom.cdf(k,n,p)"
      ],
      "metadata": {
        "colab": {
          "base_uri": "https://localhost:8080/"
        },
        "id": "ZaHDAYWlvy0T",
        "outputId": "d753b01f-4e0c-47ec-a57f-71e1a859cd4e"
      },
      "execution_count": null,
      "outputs": [
        {
          "output_type": "execute_result",
          "data": {
            "text/plain": [
              "0.31249999999999983"
            ]
          },
          "metadata": {},
          "execution_count": 37
        }
      ]
    },
    {
      "cell_type": "markdown",
      "source": [
        "Suponha que a probabilidade dos pais  terem um  filho com cabelos loiros seja ¼. Se houverem 6 crianças na família, qual é a probabilidade de que metade delas terem cabelos loiros? \n",
        "\n",
        "b. Se a probabilidade de atingir um alvo num único disparo é 0,3, qual é a probabilidade de que em 4 disparos o alvo \n",
        "seja atingido no mínimo 3 vezes? "
      ],
      "metadata": {
        "id": "qGxmfzqDxNbt"
      }
    },
    {
      "cell_type": "code",
      "source": [
        "p = 0.25\n",
        "n = 6\n",
        "k= 3\n",
        "\n",
        "binom.pmf(k,n,p)"
      ],
      "metadata": {
        "colab": {
          "base_uri": "https://localhost:8080/"
        },
        "id": "qW2h32kGy1hL",
        "outputId": "e0039dc8-a69b-416d-f6f4-041ccbd6ea9c"
      },
      "execution_count": null,
      "outputs": [
        {
          "output_type": "execute_result",
          "data": {
            "text/plain": [
              "0.13183593749999992"
            ]
          },
          "metadata": {},
          "execution_count": 35
        }
      ]
    },
    {
      "cell_type": "markdown",
      "source": [
        "P(k sucessos) = comb(n, k) * p^k * (1-p)^(n-k)\n",
        "\n",
        "Onde comb(n, k) é o número de maneiras de escolher k objetos a partir de um conjunto de n objetos, e é dado por:\n",
        "\n",
        "comb(n, k) = n! / (k! * (n-k)!) ! = fatorial 5! = 5 * 4 + 5 * 3...5*1\n",
        "Isso pode ser interpretado como o número de combinações distintas de k objetos que podem ser escolhidos de um conjunto de n objetos.\n",
        "\n",
        "\n",
        "comb(6,3) = 6! / (3! * (6-3)!)\n",
        "= 6! / (3! * 3!)\n",
        "= (720) / (36)"
      ],
      "metadata": {
        "id": "TvAZWKBA9rFK"
      }
    },
    {
      "cell_type": "code",
      "source": [
        "# P(3 sucessos) = comb(6, 3) * (0,25)^3 * (1 - 0,25)^(6 - 3)\n",
        "pk = 20 * 0.25 ** 3 * 0.75 ** 3 \n",
        "pk"
      ],
      "metadata": {
        "colab": {
          "base_uri": "https://localhost:8080/"
        },
        "id": "dFznhVHq9fPG",
        "outputId": "8e11cd7c-b29a-49d1-d468-6874505189b8"
      },
      "execution_count": null,
      "outputs": [
        {
          "output_type": "execute_result",
          "data": {
            "text/plain": [
              "0.1318359375"
            ]
          },
          "metadata": {},
          "execution_count": 43
        }
      ]
    },
    {
      "cell_type": "markdown",
      "source": [
        "## Distribuição normal | Variáveis contínuas"
      ],
      "metadata": {
        "id": "lKxWvXVPB-rS"
      }
    },
    {
      "cell_type": "code",
      "source": [],
      "metadata": {
        "id": "rZIvPO-9CGfa"
      },
      "execution_count": null,
      "outputs": []
    }
  ]
}